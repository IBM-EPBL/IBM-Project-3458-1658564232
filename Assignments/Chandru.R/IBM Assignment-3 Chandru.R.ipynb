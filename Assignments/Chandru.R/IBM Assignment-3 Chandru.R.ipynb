{
  "nbformat": 4,
  "nbformat_minor": 0,
  "metadata": {
    "colab": {
      "provenance": []
    },
    "kernelspec": {
      "name": "python3",
      "display_name": "Python 3"
    },
    "language_info": {
      "name": "python"
    }
  },
  "cells": [
    {
      "cell_type": "code",
      "execution_count": null,
      "metadata": {
        "id": "axZ0fn5v_zgj"
      },
      "outputs": [],
      "source": []
    },
    {
      "cell_type": "markdown",
      "source": [
        "Exercises\n",
        "\n",
        "Answer the questions or complete the tasks outlined in bold below, use the specific method described if applicable.\n",
        "\n",
        "What is 7 to the power of 4?"
      ],
      "metadata": {
        "id": "l6WANXwm_3S5"
      }
    },
    {
      "cell_type": "code",
      "source": [
        "print(7**4)"
      ],
      "metadata": {
        "colab": {
          "base_uri": "https://localhost:8080/"
        },
        "id": "EbfLUgFA_7pB",
        "outputId": "694fdb2a-c1e4-46ee-ceff-1f8ba64fe8f8"
      },
      "execution_count": 1,
      "outputs": [
        {
          "output_type": "stream",
          "name": "stdout",
          "text": [
            "2401\n"
          ]
        }
      ]
    },
    {
      "cell_type": "markdown",
      "source": [
        "Split this string:\n",
        "\n",
        "s = \"Hi there Sam!\"\n",
        "\n",
        "into a list."
      ],
      "metadata": {
        "id": "S5XNH_GhAMzx"
      }
    },
    {
      "cell_type": "code",
      "source": [
        "s=\"Hi there Sam!\".split()\n",
        "s=list(s)\n",
        "s"
      ],
      "metadata": {
        "colab": {
          "base_uri": "https://localhost:8080/"
        },
        "id": "lZkrM2-eAU09",
        "outputId": "4841d222-9784-4e3f-fbcc-b11f7ec84852"
      },
      "execution_count": 2,
      "outputs": [
        {
          "output_type": "execute_result",
          "data": {
            "text/plain": [
              "['Hi', 'there', 'Sam!']"
            ]
          },
          "metadata": {},
          "execution_count": 2
        }
      ]
    },
    {
      "cell_type": "code",
      "source": [
        "s=\"Hi there dad!\".split()\n",
        "list(s)"
      ],
      "metadata": {
        "colab": {
          "base_uri": "https://localhost:8080/"
        },
        "id": "8_r-JVaNAafM",
        "outputId": "93759f16-4b07-42c8-adcb-86c4011f199c"
      },
      "execution_count": 3,
      "outputs": [
        {
          "output_type": "execute_result",
          "data": {
            "text/plain": [
              "['Hi', 'there', 'dad!']"
            ]
          },
          "metadata": {},
          "execution_count": 3
        }
      ]
    },
    {
      "cell_type": "markdown",
      "source": [
        "Given the variables:\n",
        "\n",
        "planet = \"Earth\"\n",
        "diameter = 12742\n",
        "\n",
        "Use .format() to print the following string:\n",
        "\n",
        "The diameter of Earth is 12742 kilometers."
      ],
      "metadata": {
        "id": "pnEyjRrWAe7G"
      }
    },
    {
      "cell_type": "code",
      "source": [
        "planet = \"Earth\"\n",
        "diameter = 12742"
      ],
      "metadata": {
        "id": "YjFKZLPiAgcK"
      },
      "execution_count": 4,
      "outputs": []
    },
    {
      "cell_type": "code",
      "source": [
        "t=\"The diameter of {0} is {1} kilometers.\".format(planet,diameter)\n",
        "t"
      ],
      "metadata": {
        "colab": {
          "base_uri": "https://localhost:8080/",
          "height": 36
        },
        "id": "obd_br0NAlzb",
        "outputId": "2e9f3fe1-ed32-43c5-e526-940f3897da89"
      },
      "execution_count": 5,
      "outputs": [
        {
          "output_type": "execute_result",
          "data": {
            "text/plain": [
              "'The diameter of Earth is 12742 kilometers.'"
            ],
            "application/vnd.google.colaboratory.intrinsic+json": {
              "type": "string"
            }
          },
          "metadata": {},
          "execution_count": 5
        }
      ]
    },
    {
      "cell_type": "markdown",
      "source": [
        "Given this nested list, use indexing to grab the word \"hello\""
      ],
      "metadata": {
        "id": "BuqF03vzArnE"
      }
    },
    {
      "cell_type": "code",
      "source": [
        "lst = [1,2,[3,4],[5,[100,200,['hello']],23,11],1,7]\n",
        "print(str(*lst[3][1][2]))"
      ],
      "metadata": {
        "colab": {
          "base_uri": "https://localhost:8080/"
        },
        "id": "-f1BAQYDAteA",
        "outputId": "6ead5e85-2d70-47b4-b11c-2002fc6dad0d"
      },
      "execution_count": 6,
      "outputs": [
        {
          "output_type": "stream",
          "name": "stdout",
          "text": [
            "hello\n"
          ]
        }
      ]
    },
    {
      "cell_type": "markdown",
      "source": [
        "Given this nest dictionary grab the word \"hello\". Be prepared, this will be annoying/tricky"
      ],
      "metadata": {
        "id": "GB-tu6KgAxTV"
      }
    },
    {
      "cell_type": "code",
      "source": [
        "d = {'k1':[1,2,3,{'tricky':['oh','man','inception',{'target':[1,2,3,'hello']}]}]}\n",
        "d.get('k1')[3].get(\"tricky\")[3].get(\"target\")[-1]"
      ],
      "metadata": {
        "colab": {
          "base_uri": "https://localhost:8080/",
          "height": 36
        },
        "id": "nHwDma2eA0Nt",
        "outputId": "9d41eda4-cc33-4eff-dfce-093d6728fc22"
      },
      "execution_count": 7,
      "outputs": [
        {
          "output_type": "execute_result",
          "data": {
            "text/plain": [
              "'hello'"
            ],
            "application/vnd.google.colaboratory.intrinsic+json": {
              "type": "string"
            }
          },
          "metadata": {},
          "execution_count": 7
        }
      ]
    },
    {
      "cell_type": "markdown",
      "source": [
        "What is the main difference between a tuple and a list?"
      ],
      "metadata": {
        "id": "BIoVnsPCA7LA"
      }
    },
    {
      "cell_type": "code",
      "source": [
        "List are Mutalbles ,Enclosed within '[]'.\n",
        "Tuple are Immutables,Enclosed within '()'."
      ],
      "metadata": {
        "id": "_soFjzpfCsyy"
      },
      "execution_count": null,
      "outputs": []
    },
    {
      "cell_type": "markdown",
      "source": [
        "Create a function that grabs the email website domain from a string in the form:"
      ],
      "metadata": {
        "id": "cjKDYZ09CygO"
      }
    },
    {
      "cell_type": "markdown",
      "source": [
        "user@domain.com"
      ],
      "metadata": {
        "id": "qxFP_3iUC3Bn"
      }
    },
    {
      "cell_type": "markdown",
      "source": [
        "So for example, passing \"user@domain.com\" would return: domain.com"
      ],
      "metadata": {
        "id": "vzV-NmIPC6M3"
      }
    },
    {
      "cell_type": "code",
      "source": [
        "s=\"user@domain.com\""
      ],
      "metadata": {
        "id": "ufygwmHnC9oq"
      },
      "execution_count": 14,
      "outputs": []
    },
    {
      "cell_type": "code",
      "source": [
        "s[s.index(\"@\")+1:]"
      ],
      "metadata": {
        "colab": {
          "base_uri": "https://localhost:8080/",
          "height": 36
        },
        "id": "EilPxcvQC_3P",
        "outputId": "2ac13d8f-b342-4023-be53-34fdfbd411e1"
      },
      "execution_count": 15,
      "outputs": [
        {
          "output_type": "execute_result",
          "data": {
            "text/plain": [
              "'domain.com'"
            ],
            "application/vnd.google.colaboratory.intrinsic+json": {
              "type": "string"
            }
          },
          "metadata": {},
          "execution_count": 15
        }
      ]
    },
    {
      "cell_type": "markdown",
      "source": [
        "Create a basic function that returns True if the word 'dog' is contained in the input string. Don't worry about edge cases like a punctuation being attached to the word dog, but do account for capitalization."
      ],
      "metadata": {
        "id": "ojs-6C0nDILO"
      }
    },
    {
      "cell_type": "code",
      "source": [
        "s=\"my dog name is spark\".split()"
      ],
      "metadata": {
        "id": "S6InQqOKDJYR"
      },
      "execution_count": 16,
      "outputs": []
    },
    {
      "cell_type": "code",
      "source": [
        "\"dog\" in s"
      ],
      "metadata": {
        "colab": {
          "base_uri": "https://localhost:8080/"
        },
        "id": "rxft5pOmDLla",
        "outputId": "375ab000-b3f1-414c-ff58-d38bb8f38ff7"
      },
      "execution_count": 17,
      "outputs": [
        {
          "output_type": "execute_result",
          "data": {
            "text/plain": [
              "True"
            ]
          },
          "metadata": {},
          "execution_count": 17
        }
      ]
    },
    {
      "cell_type": "markdown",
      "source": [
        "Create a function that counts the number of times the word \"dog\" occurs in a string. Again ignore edge cases."
      ],
      "metadata": {
        "id": "PAsVRxEkDRH6"
      }
    },
    {
      "cell_type": "code",
      "source": [
        "s=\"dog dog\".split()\n",
        "s=list(s)"
      ],
      "metadata": {
        "id": "G4iAMGoIDUOI"
      },
      "execution_count": 18,
      "outputs": []
    },
    {
      "cell_type": "code",
      "source": [
        "s.count(\"dog\")"
      ],
      "metadata": {
        "colab": {
          "base_uri": "https://localhost:8080/"
        },
        "id": "5m6UfrCfDWTY",
        "outputId": "66301fb5-c7d7-4ef8-f5b1-127e3f2312f1"
      },
      "execution_count": 19,
      "outputs": [
        {
          "output_type": "execute_result",
          "data": {
            "text/plain": [
              "2"
            ]
          },
          "metadata": {},
          "execution_count": 19
        }
      ]
    },
    {
      "cell_type": "markdown",
      "source": [
        "You are driving a little too fast, and a police officer stops you. Write a function to return one of 3 possible results: \"No ticket\", \"Small ticket\", or \"Big Ticket\". If your speed is 60 or less, the result is \"No Ticket\". If speed is between 61 and 80 inclusive, the result is \"Small Ticket\". If speed is 81 or more, the result is \"Big Ticket\". Unless it is your birthday (encoded as a boolean value in the parameters of the function) -- on your birthday, your speed can be 5 higher in all cases."
      ],
      "metadata": {
        "id": "rzpV2wEJF1L_"
      }
    },
    {
      "cell_type": "code",
      "source": [
        "def caught_speeding(speed, is_birthday):\n",
        "    \n",
        "    if is_birthday:\n",
        "        speeding = speed - 5\n",
        "    else:\n",
        "        speeding = speed\n",
        "    \n",
        "    if speeding > 80:\n",
        "        return 'Big Ticket'\n",
        "    elif speeding > 60 and speeding <80:\n",
        "        return 'Small Ticket'\n",
        "    else:\n",
        "        return 'No Ticket'"
      ],
      "metadata": {
        "id": "wDSuC1UuGEgN"
      },
      "execution_count": 20,
      "outputs": []
    },
    {
      "cell_type": "code",
      "source": [
        "caught_speeding(81,0)"
      ],
      "metadata": {
        "colab": {
          "base_uri": "https://localhost:8080/",
          "height": 36
        },
        "id": "Q2VBhyCqGLyX",
        "outputId": "c64b4c89-b3d5-42e9-b33d-8aac4cc27533"
      },
      "execution_count": 21,
      "outputs": [
        {
          "output_type": "execute_result",
          "data": {
            "text/plain": [
              "'Big Ticket'"
            ],
            "application/vnd.google.colaboratory.intrinsic+json": {
              "type": "string"
            }
          },
          "metadata": {},
          "execution_count": 21
        }
      ]
    },
    {
      "cell_type": "code",
      "source": [
        "caught_speeding(61,0)"
      ],
      "metadata": {
        "colab": {
          "base_uri": "https://localhost:8080/",
          "height": 36
        },
        "id": "EODkTRjMGOTs",
        "outputId": "3a828ca6-6664-4696-b61e-ccdde55d72ed"
      },
      "execution_count": 22,
      "outputs": [
        {
          "output_type": "execute_result",
          "data": {
            "text/plain": [
              "'Small Ticket'"
            ],
            "application/vnd.google.colaboratory.intrinsic+json": {
              "type": "string"
            }
          },
          "metadata": {},
          "execution_count": 22
        }
      ]
    },
    {
      "cell_type": "markdown",
      "source": [
        "Create an employee list with basic salary values(at least 5 values for 5 employees) and using a for loop retreive each employee salary and calculate total salary expenditure."
      ],
      "metadata": {
        "id": "Bzqhz7K_GSzh"
      }
    },
    {
      "cell_type": "code",
      "source": [
        "em=[30000,40000,55000,25000,15000]\n",
        "s=0\n",
        "for i in em:\n",
        "    s=s+i\n",
        "print(s)"
      ],
      "metadata": {
        "colab": {
          "base_uri": "https://localhost:8080/"
        },
        "id": "xeIK4dIKGVaR",
        "outputId": "a9de2d4c-b743-41ff-f44d-680fa05677eb"
      },
      "execution_count": 23,
      "outputs": [
        {
          "output_type": "stream",
          "name": "stdout",
          "text": [
            "165000\n"
          ]
        }
      ]
    },
    {
      "cell_type": "markdown",
      "source": [
        "Create two dictionaries in Python:\n",
        "\n",
        "First one to contain fields as Empid, Empname, Basicpay\n",
        "\n",
        "Second dictionary to contain fields as DeptName, DeptId.\n",
        "\n",
        "Combine both dictionaries."
      ],
      "metadata": {
        "id": "7NKKsxheGZbM"
      }
    },
    {
      "cell_type": "code",
      "source": [
        "d1={\n",
        "    \"Empid\":123,\n",
        "    \"Empname\":\"abc\",\n",
        "    \"Basicpay\":50000\n",
        "}\n",
        "d2={\n",
        "    \"DeptName\":\"CSE\",\n",
        "    \"DeptId\":104\n",
        "}\n",
        "d1.update(d2)\n",
        "d1"
      ],
      "metadata": {
        "id": "D9FX7LepGbwZ",
        "outputId": "a42251ec-01c1-4b01-9eb5-298be1fb6daf",
        "colab": {
          "base_uri": "https://localhost:8080/"
        }
      },
      "execution_count": 24,
      "outputs": [
        {
          "output_type": "execute_result",
          "data": {
            "text/plain": [
              "{'Empid': 123,\n",
              " 'Empname': 'abc',\n",
              " 'Basicpay': 50000,\n",
              " 'DeptName': 'CSE',\n",
              " 'DeptId': 104}"
            ]
          },
          "metadata": {},
          "execution_count": 24
        }
      ]
    }
  ]
}